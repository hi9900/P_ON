{
 "cells": [
  {
   "cell_type": "code",
   "execution_count": 2,
   "outputs": [
    {
     "name": "stdout",
     "output_type": "stream",
     "text": [
      "Collecting matplotlib\n",
      "  Downloading matplotlib-3.8.0-cp39-cp39-win_amd64.whl (7.6 MB)\n",
      "     ---------------------------------------- 7.6/7.6 MB 18.8 MB/s eta 0:00:00\n",
      "Collecting cycler>=0.10\n",
      "  Downloading cycler-0.12.1-py3-none-any.whl (8.3 kB)\n",
      "Collecting kiwisolver>=1.0.1\n",
      "  Downloading kiwisolver-1.4.5-cp39-cp39-win_amd64.whl (56 kB)\n",
      "     ---------------------------------------- 56.2/56.2 KB ? eta 0:00:00\n",
      "Collecting contourpy>=1.0.1\n",
      "  Downloading contourpy-1.1.1-cp39-cp39-win_amd64.whl (435 kB)\n",
      "     ---------------------------------------- 436.0/436.0 KB ? eta 0:00:00\n",
      "Collecting importlib-resources>=3.2.0\n",
      "  Downloading importlib_resources-6.1.0-py3-none-any.whl (33 kB)\n",
      "Collecting pyparsing>=2.3.1\n",
      "  Downloading pyparsing-3.1.1-py3-none-any.whl (103 kB)\n",
      "     ---------------------------------------- 103.1/103.1 KB ? eta 0:00:00\n",
      "Requirement already satisfied: python-dateutil>=2.7 in c:\\users\\nayeon\\appdata\\local\\programs\\python\\python39\\lib\\site-packages (from matplotlib) (2.8.2)\n",
      "Requirement already satisfied: numpy<2,>=1.21 in c:\\users\\nayeon\\appdata\\local\\programs\\python\\python39\\lib\\site-packages (from matplotlib) (1.26.1)\n",
      "Requirement already satisfied: packaging>=20.0 in c:\\users\\nayeon\\appdata\\local\\programs\\python\\python39\\lib\\site-packages (from matplotlib) (23.2)\n",
      "Collecting fonttools>=4.22.0\n",
      "  Downloading fonttools-4.43.1-cp39-cp39-win_amd64.whl (2.1 MB)\n",
      "     ---------------------------------------- 2.1/2.1 MB 27.3 MB/s eta 0:00:00\n",
      "Requirement already satisfied: pillow>=6.2.0 in c:\\users\\nayeon\\appdata\\local\\programs\\python\\python39\\lib\\site-packages (from matplotlib) (9.5.0)\n",
      "Requirement already satisfied: zipp>=3.1.0 in c:\\users\\nayeon\\appdata\\local\\programs\\python\\python39\\lib\\site-packages (from importlib-resources>=3.2.0->matplotlib) (3.17.0)\n",
      "Requirement already satisfied: six>=1.5 in c:\\users\\nayeon\\appdata\\local\\programs\\python\\python39\\lib\\site-packages (from python-dateutil>=2.7->matplotlib) (1.16.0)\n",
      "Installing collected packages: pyparsing, kiwisolver, importlib-resources, fonttools, cycler, contourpy, matplotlib\n",
      "Successfully installed contourpy-1.1.1 cycler-0.12.1 fonttools-4.43.1 importlib-resources-6.1.0 kiwisolver-1.4.5 matplotlib-3.8.0 pyparsing-3.1.1\n",
      "Note: you may need to restart the kernel to use updated packages.\n"
     ]
    },
    {
     "name": "stderr",
     "output_type": "stream",
     "text": [
      "WARNING: You are using pip version 22.0.4; however, version 23.3.1 is available.\n",
      "You should consider upgrading via the 'C:\\Users\\Nayeon\\AppData\\Local\\Programs\\Python\\Python39\\python.exe -m pip install --upgrade pip' command.\n"
     ]
    }
   ],
   "source": [
    "pip install matplotlib"
   ],
   "metadata": {
    "collapsed": false,
    "ExecuteTime": {
     "end_time": "2023-10-22T07:46:27.540022500Z",
     "start_time": "2023-10-22T07:46:12.296325600Z"
    }
   },
   "id": "ef6aba6d82e602a3"
  },
  {
   "cell_type": "code",
   "execution_count": 4,
   "outputs": [
    {
     "name": "stdout",
     "output_type": "stream",
     "text": [
      "Collecting seaborn\n",
      "  Downloading seaborn-0.13.0-py3-none-any.whl (294 kB)\n",
      "     -------------------------------------- 294.6/294.6 KB 6.0 MB/s eta 0:00:00\n",
      "Requirement already satisfied: numpy!=1.24.0,>=1.20 in c:\\users\\nayeon\\appdata\\local\\programs\\python\\python39\\lib\\site-packages (from seaborn) (1.26.1)\n",
      "Requirement already satisfied: matplotlib!=3.6.1,>=3.3 in c:\\users\\nayeon\\appdata\\local\\programs\\python\\python39\\lib\\site-packages (from seaborn) (3.8.0)\n",
      "Requirement already satisfied: pandas>=1.2 in c:\\users\\nayeon\\appdata\\local\\programs\\python\\python39\\lib\\site-packages (from seaborn) (2.1.1)\n",
      "Requirement already satisfied: python-dateutil>=2.7 in c:\\users\\nayeon\\appdata\\local\\programs\\python\\python39\\lib\\site-packages (from matplotlib!=3.6.1,>=3.3->seaborn) (2.8.2)\n",
      "Requirement already satisfied: contourpy>=1.0.1 in c:\\users\\nayeon\\appdata\\local\\programs\\python\\python39\\lib\\site-packages (from matplotlib!=3.6.1,>=3.3->seaborn) (1.1.1)\n",
      "Requirement already satisfied: importlib-resources>=3.2.0 in c:\\users\\nayeon\\appdata\\local\\programs\\python\\python39\\lib\\site-packages (from matplotlib!=3.6.1,>=3.3->seaborn) (6.1.0)\n",
      "Requirement already satisfied: packaging>=20.0 in c:\\users\\nayeon\\appdata\\local\\programs\\python\\python39\\lib\\site-packages (from matplotlib!=3.6.1,>=3.3->seaborn) (23.2)\n",
      "Requirement already satisfied: fonttools>=4.22.0 in c:\\users\\nayeon\\appdata\\local\\programs\\python\\python39\\lib\\site-packages (from matplotlib!=3.6.1,>=3.3->seaborn) (4.43.1)\n",
      "Requirement already satisfied: pyparsing>=2.3.1 in c:\\users\\nayeon\\appdata\\local\\programs\\python\\python39\\lib\\site-packages (from matplotlib!=3.6.1,>=3.3->seaborn) (3.1.1)\n",
      "Requirement already satisfied: kiwisolver>=1.0.1 in c:\\users\\nayeon\\appdata\\local\\programs\\python\\python39\\lib\\site-packages (from matplotlib!=3.6.1,>=3.3->seaborn) (1.4.5)\n",
      "Requirement already satisfied: pillow>=6.2.0 in c:\\users\\nayeon\\appdata\\local\\programs\\python\\python39\\lib\\site-packages (from matplotlib!=3.6.1,>=3.3->seaborn) (9.5.0)\n",
      "Requirement already satisfied: cycler>=0.10 in c:\\users\\nayeon\\appdata\\local\\programs\\python\\python39\\lib\\site-packages (from matplotlib!=3.6.1,>=3.3->seaborn) (0.12.1)\n",
      "Requirement already satisfied: tzdata>=2022.1 in c:\\users\\nayeon\\appdata\\local\\programs\\python\\python39\\lib\\site-packages (from pandas>=1.2->seaborn) (2023.3)\n",
      "Requirement already satisfied: pytz>=2020.1 in c:\\users\\nayeon\\appdata\\local\\programs\\python\\python39\\lib\\site-packages (from pandas>=1.2->seaborn) (2023.3)\n",
      "Requirement already satisfied: zipp>=3.1.0 in c:\\users\\nayeon\\appdata\\local\\programs\\python\\python39\\lib\\site-packages (from importlib-resources>=3.2.0->matplotlib!=3.6.1,>=3.3->seaborn) (3.17.0)\n",
      "Requirement already satisfied: six>=1.5 in c:\\users\\nayeon\\appdata\\local\\programs\\python\\python39\\lib\\site-packages (from python-dateutil>=2.7->matplotlib!=3.6.1,>=3.3->seaborn) (1.16.0)\n",
      "Installing collected packages: seaborn\n",
      "Successfully installed seaborn-0.13.0\n",
      "Note: you may need to restart the kernel to use updated packages.\n"
     ]
    },
    {
     "name": "stderr",
     "output_type": "stream",
     "text": [
      "WARNING: You are using pip version 22.0.4; however, version 23.3.1 is available.\n",
      "You should consider upgrading via the 'C:\\Users\\Nayeon\\AppData\\Local\\Programs\\Python\\Python39\\python.exe -m pip install --upgrade pip' command.\n"
     ]
    }
   ],
   "source": [
    "pip install seaborn"
   ],
   "metadata": {
    "collapsed": false,
    "ExecuteTime": {
     "end_time": "2023-10-22T07:46:49.129849600Z",
     "start_time": "2023-10-22T07:46:46.778172500Z"
    }
   },
   "id": "acfd7a57140c6e5a"
  },
  {
   "cell_type": "code",
   "execution_count": 5,
   "outputs": [],
   "source": [
    "import pandas as pd\n",
    "import numpy as np\n",
    "import matplotlib.pyplot as plt\n",
    "import seaborn as sns\n",
    "from konlpy.tag import Komoran\n",
    "import matplotlib.pyplot as plt"
   ],
   "metadata": {
    "collapsed": false,
    "ExecuteTime": {
     "end_time": "2023-10-22T07:46:57.455808200Z",
     "start_time": "2023-10-22T07:46:53.840271300Z"
    }
   },
   "id": "initial_id"
  },
  {
   "cell_type": "markdown",
   "source": [
    "# 데이터 하나로 합치기\n",
    "- 실제 문장이 들어있는 칼럼만 사용\n",
    "- 통합된 데이터는 csv로 저장해두기"
   ],
   "metadata": {
    "collapsed": false
   },
   "id": "551a80cb2ac79c6e"
  },
  {
   "cell_type": "code",
   "execution_count": 6,
   "outputs": [],
   "source": [
    "movie = pd.read_csv(\"영화리뷰.csv\")\n",
    "purpose = pd.read_csv(\"용도별목적대화데이터.csv\")\n",
    "topic = pd.read_csv(\"주제별일상대화데이터.csv\")\n",
    "common_sense = pd.read_csv(\"일반상식.csv\")\n",
    "add = pd.read_csv(\"추가데이터.csv\")\n",
    "\n",
    "movie.dropna(inplace=True)\n",
    "purpose.dropna(inplace=True)\n",
    "topic.dropna(inplace=True)\n",
    "common_sense.dropna(inplace=True)\n",
    "add.dropna(inplace=True)"
   ],
   "metadata": {
    "collapsed": false,
    "ExecuteTime": {
     "start_time": "2023-10-22T07:47:28.853357Z"
    }
   },
   "id": "ee9cd7d73d5e1879"
  },
  {
   "cell_type": "code",
   "execution_count": 7,
   "outputs": [
    {
     "name": "stdout",
     "output_type": "stream",
     "text": [
      "movie shape => (199992, 3)\n",
      "purpose shape => (480494, 1)\n",
      "topic shape => (1445760, 1)\n",
      "common_sense shape => (68538, 3)\n",
      "add => (9216, 2)\n"
     ]
    }
   ],
   "source": [
    "print(f\"movie shape => {movie.shape}\\n\\\n",
    "purpose shape => {purpose.shape}\\n\\\n",
    "topic shape => {topic.shape}\\n\\\n",
    "common_sense shape => {common_sense.shape}\\n\\\n",
    "add => {add.shape}\")"
   ],
   "metadata": {
    "collapsed": false,
    "ExecuteTime": {
     "end_time": "2023-10-22T07:47:41.741927100Z",
     "start_time": "2023-10-22T07:47:41.723259500Z"
    }
   },
   "id": "480214c97993c7f1"
  },
  {
   "cell_type": "code",
   "execution_count": 8,
   "outputs": [],
   "source": [
    "all_data = list(movie['document']) + list(purpose['text']) + list(topic['text']) + list(common_sense['query']) \\\n",
    "+ list(common_sense['answer']) + list(add['query'])"
   ],
   "metadata": {
    "collapsed": false,
    "ExecuteTime": {
     "end_time": "2023-10-22T07:48:29.841886500Z",
     "start_time": "2023-10-22T07:48:29.626286600Z"
    }
   },
   "id": "8f917d3699cf95a6"
  },
  {
   "cell_type": "code",
   "execution_count": 9,
   "outputs": [
    {
     "data": {
      "text/plain": "2272538"
     },
     "execution_count": 9,
     "metadata": {},
     "output_type": "execute_result"
    }
   ],
   "source": [
    "len(all_data)"
   ],
   "metadata": {
    "collapsed": false,
    "ExecuteTime": {
     "end_time": "2023-10-22T07:48:36.662678200Z",
     "start_time": "2023-10-22T07:48:36.639566200Z"
    }
   },
   "id": "75fc3655846eb932"
  },
  {
   "cell_type": "code",
   "execution_count": 12,
   "outputs": [],
   "source": [
    "df = pd.DataFrame({'text': all_data})\n",
    "df.to_csv(\"./통합데이터.csv\", index=False)"
   ],
   "metadata": {
    "collapsed": false,
    "ExecuteTime": {
     "start_time": "2023-10-22T07:49:43.964991Z"
    }
   },
   "id": "b49888a3d9369fbf"
  },
  {
   "cell_type": "markdown",
   "source": [
    "# 의도 분류 데이터 생성\n",
    "- 0 -> 장소\n",
    "- 1 -> 시간\n",
    "- 2 -> 사람\n",
    "- 3 -> 내용\n",
    "- 4 -> 기타"
   ],
   "metadata": {
    "collapsed": false
   },
   "id": "4fbf3f16b0c20cfe"
  },
  {
   "cell_type": "code",
   "execution_count": 24,
   "outputs": [],
   "source": [
    "what = []\n",
    "where = []\n",
    "when = []\n",
    "who = []\n",
    "etc = []"
   ],
   "metadata": {
    "collapsed": false,
    "ExecuteTime": {
     "end_time": "2023-10-22T08:00:16.894886500Z",
     "start_time": "2023-10-22T08:00:16.868767600Z"
    }
   },
   "id": "766bad1bde7ebb5f"
  },
  {
   "cell_type": "code",
   "execution_count": 35,
   "outputs": [],
   "source": [
    "for i in all_data:\n",
    "    if ('위치' or '어디' or '장소' or '주소') in i: where.append(i)\n",
    "    elif ('시작' or '마감' or '언제' or '기간' or '시간' or '며칠' or '몇일' or '몇 일' or '요일' or '몇 시' or '이번 주' or '주말' or '다음 주' or '지난 주') in i: when.append(i)\n",
    "    elif ('누구' or '누가' or '사람') in i: who.append(i)\n",
    "    elif ('뭐') in i: what.append(i)\n",
    "    else: etc.append(i)"
   ],
   "metadata": {
    "collapsed": false,
    "ExecuteTime": {
     "end_time": "2023-10-22T08:02:59.429220300Z",
     "start_time": "2023-10-22T08:02:58.997277900Z"
    }
   },
   "id": "80789a532e403d18"
  },
  {
   "cell_type": "code",
   "execution_count": 36,
   "outputs": [
    {
     "data": {
      "text/plain": "21460"
     },
     "execution_count": 36,
     "metadata": {},
     "output_type": "execute_result"
    }
   ],
   "source": [
    "len(who)"
   ],
   "metadata": {
    "collapsed": false,
    "ExecuteTime": {
     "end_time": "2023-10-22T08:03:00.475507900Z",
     "start_time": "2023-10-22T08:03:00.457106700Z"
    }
   },
   "id": "da15a37963b11dc2"
  },
  {
   "cell_type": "code",
   "execution_count": 37,
   "outputs": [],
   "source": [
    "where_label = [0] * len(where)\n",
    "when_label = [1] * len(when)\n",
    "who_label = [2] * len(who)\n",
    "what_label = [3] * len(what)\n",
    "etc_label = [4] * len(etc)\n"
   ],
   "metadata": {
    "collapsed": false,
    "ExecuteTime": {
     "end_time": "2023-10-22T08:03:01.517816500Z",
     "start_time": "2023-10-22T08:03:01.510245900Z"
    }
   },
   "id": "c73c64ca0d774fe2"
  },
  {
   "cell_type": "code",
   "execution_count": 38,
   "outputs": [
    {
     "data": {
      "text/plain": "21460"
     },
     "execution_count": 38,
     "metadata": {},
     "output_type": "execute_result"
    }
   ],
   "source": [
    "len(who_label)"
   ],
   "metadata": {
    "collapsed": false,
    "ExecuteTime": {
     "end_time": "2023-10-22T08:03:02.341513400Z",
     "start_time": "2023-10-22T08:03:02.320643700Z"
    }
   },
   "id": "f461507cd4010215"
  },
  {
   "cell_type": "code",
   "execution_count": 39,
   "outputs": [
    {
     "data": {
      "text/plain": "                                                text  label\n0  2014년 한국사회 안에서 예술가라는 포지션이 어디쯤에 위치하고 있는가에 대해서 깊...      0\n1                      짐캐리를 지금의 위치로 올려준 94년도 3작품중 하나      0\n2  홍콩에서 가장 유능한 감독 유위강, 당시 최고의 배우 정이건, 만화계의 절대적인 위...      0\n3  80년대 국산 애니메이션 중 보석같은 작품중의 하나 입니다. 이런 애니메이션이 계속...      0\n4        평점주기전에 시즌오브더위치 보고올것..시즌오브더위치보다 평점이 낮다니 말도안되      0",
      "text/html": "<div>\n<style scoped>\n    .dataframe tbody tr th:only-of-type {\n        vertical-align: middle;\n    }\n\n    .dataframe tbody tr th {\n        vertical-align: top;\n    }\n\n    .dataframe thead th {\n        text-align: right;\n    }\n</style>\n<table border=\"1\" class=\"dataframe\">\n  <thead>\n    <tr style=\"text-align: right;\">\n      <th></th>\n      <th>text</th>\n      <th>label</th>\n    </tr>\n  </thead>\n  <tbody>\n    <tr>\n      <th>0</th>\n      <td>2014년 한국사회 안에서 예술가라는 포지션이 어디쯤에 위치하고 있는가에 대해서 깊...</td>\n      <td>0</td>\n    </tr>\n    <tr>\n      <th>1</th>\n      <td>짐캐리를 지금의 위치로 올려준 94년도 3작품중 하나</td>\n      <td>0</td>\n    </tr>\n    <tr>\n      <th>2</th>\n      <td>홍콩에서 가장 유능한 감독 유위강, 당시 최고의 배우 정이건, 만화계의 절대적인 위...</td>\n      <td>0</td>\n    </tr>\n    <tr>\n      <th>3</th>\n      <td>80년대 국산 애니메이션 중 보석같은 작품중의 하나 입니다. 이런 애니메이션이 계속...</td>\n      <td>0</td>\n    </tr>\n    <tr>\n      <th>4</th>\n      <td>평점주기전에 시즌오브더위치 보고올것..시즌오브더위치보다 평점이 낮다니 말도안되</td>\n      <td>0</td>\n    </tr>\n  </tbody>\n</table>\n</div>"
     },
     "execution_count": 39,
     "metadata": {},
     "output_type": "execute_result"
    }
   ],
   "source": [
    "train_df = pd.DataFrame({'text': where + when + who + what + etc,\n",
    "                         'label' : where_label + when_label + who_label + what_label + etc_label})\n",
    "\n",
    "train_df.head()"
   ],
   "metadata": {
    "collapsed": false,
    "ExecuteTime": {
     "end_time": "2023-10-22T08:03:03.776249200Z",
     "start_time": "2023-10-22T08:03:02.812154200Z"
    }
   },
   "id": "916ecee97040ed02"
  },
  {
   "cell_type": "code",
   "execution_count": 40,
   "outputs": [
    {
     "data": {
      "text/plain": "                                                     text  label\n4545071                                흡연충이 언제 슈퍼영웅이 되었냐?      4\n4545072     페이스북에 잘난부모둔게죄냐는 글올린 당당함은 언제그랫었냐는듯 전혀다른사람같은태도군      4\n4545073                    언제환기시킬수 있는지 모르겠다 거의 미세먼지라서 그런지      4\n4545074  스스로나가면 스스로나가면 연봉 안줘도되고 짜르면 남은 기간 연봉 다줘야하고 그게 팩트다      4\n4545075                        언제까지 인터넷여론이 진짜 여론인줄알거야? ㅋㅋ      4",
      "text/html": "<div>\n<style scoped>\n    .dataframe tbody tr th:only-of-type {\n        vertical-align: middle;\n    }\n\n    .dataframe tbody tr th {\n        vertical-align: top;\n    }\n\n    .dataframe thead th {\n        text-align: right;\n    }\n</style>\n<table border=\"1\" class=\"dataframe\">\n  <thead>\n    <tr style=\"text-align: right;\">\n      <th></th>\n      <th>text</th>\n      <th>label</th>\n    </tr>\n  </thead>\n  <tbody>\n    <tr>\n      <th>4545071</th>\n      <td>흡연충이 언제 슈퍼영웅이 되었냐?</td>\n      <td>4</td>\n    </tr>\n    <tr>\n      <th>4545072</th>\n      <td>페이스북에 잘난부모둔게죄냐는 글올린 당당함은 언제그랫었냐는듯 전혀다른사람같은태도군</td>\n      <td>4</td>\n    </tr>\n    <tr>\n      <th>4545073</th>\n      <td>언제환기시킬수 있는지 모르겠다 거의 미세먼지라서 그런지</td>\n      <td>4</td>\n    </tr>\n    <tr>\n      <th>4545074</th>\n      <td>스스로나가면 스스로나가면 연봉 안줘도되고 짜르면 남은 기간 연봉 다줘야하고 그게 팩트다</td>\n      <td>4</td>\n    </tr>\n    <tr>\n      <th>4545075</th>\n      <td>언제까지 인터넷여론이 진짜 여론인줄알거야? ㅋㅋ</td>\n      <td>4</td>\n    </tr>\n  </tbody>\n</table>\n</div>"
     },
     "execution_count": 40,
     "metadata": {},
     "output_type": "execute_result"
    }
   ],
   "source": [
    "train_df.tail()"
   ],
   "metadata": {
    "collapsed": false,
    "ExecuteTime": {
     "end_time": "2023-10-22T08:03:06.362391900Z",
     "start_time": "2023-10-22T08:03:06.346221900Z"
    }
   },
   "id": "eb98351c8fd0fc06"
  },
  {
   "cell_type": "code",
   "execution_count": 41,
   "outputs": [],
   "source": [
    "train_df.to_csv(\"train_data.csv\", index=False)"
   ],
   "metadata": {
    "collapsed": false,
    "ExecuteTime": {
     "end_time": "2023-10-22T08:03:34.130200300Z",
     "start_time": "2023-10-22T08:03:30.593880600Z"
    }
   },
   "id": "f51f7a8113cc27e6"
  },
  {
   "cell_type": "code",
   "execution_count": null,
   "outputs": [],
   "source": [],
   "metadata": {
    "collapsed": false
   },
   "id": "e33dc79d86523fac"
  }
 ],
 "metadata": {
  "kernelspec": {
   "display_name": "Python 3",
   "language": "python",
   "name": "python3"
  },
  "language_info": {
   "codemirror_mode": {
    "name": "ipython",
    "version": 2
   },
   "file_extension": ".py",
   "mimetype": "text/x-python",
   "name": "python",
   "nbconvert_exporter": "python",
   "pygments_lexer": "ipython2",
   "version": "2.7.6"
  }
 },
 "nbformat": 4,
 "nbformat_minor": 5
}
