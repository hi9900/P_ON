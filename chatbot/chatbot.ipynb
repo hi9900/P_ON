{
 "cells": [
  {
   "cell_type": "code",
   "execution_count": 1,
   "id": "initial_id",
   "metadata": {
    "collapsed": true,
    "ExecuteTime": {
     "end_time": "2023-10-22T04:55:36.038080500Z",
     "start_time": "2023-10-22T04:55:17.349910200Z"
    }
   },
   "outputs": [
    {
     "name": "stdout",
     "output_type": "stream",
     "text": [
      "Collecting konlpy\n",
      "  Downloading konlpy-0.6.0-py2.py3-none-any.whl (19.4 MB)\n",
      "     --------------------------------------- 19.4/19.4 MB 23.4 MB/s eta 0:00:00\n",
      "Collecting lxml>=4.1.0\n",
      "  Downloading lxml-4.9.3-cp39-cp39-win_amd64.whl (3.9 MB)\n",
      "     ---------------------------------------- 3.9/3.9 MB 20.7 MB/s eta 0:00:00\n",
      "Collecting numpy>=1.6\n",
      "  Downloading numpy-1.26.1-cp39-cp39-win_amd64.whl (15.8 MB)\n",
      "     --------------------------------------- 15.8/15.8 MB 19.3 MB/s eta 0:00:00\n",
      "Collecting JPype1>=0.7.0\n",
      "  Downloading JPype1-1.4.1-cp39-cp39-win_amd64.whl (345 kB)\n",
      "     ------------------------------------- 345.2/345.2 KB 20.9 MB/s eta 0:00:00\n",
      "Requirement already satisfied: packaging in c:\\users\\nayeon\\appdata\\local\\programs\\python\\python39\\lib\\site-packages (from JPype1>=0.7.0->konlpy) (23.2)\n",
      "Installing collected packages: numpy, lxml, JPype1, konlpy\n",
      "Successfully installed JPype1-1.4.1 konlpy-0.6.0 lxml-4.9.3 numpy-1.26.1\n",
      "Note: you may need to restart the kernel to use updated packages.\n"
     ]
    },
    {
     "name": "stderr",
     "output_type": "stream",
     "text": [
      "WARNING: You are using pip version 22.0.4; however, version 23.3.1 is available.\n",
      "You should consider upgrading via the 'C:\\Users\\Nayeon\\AppData\\Local\\Programs\\Python\\Python39\\python.exe -m pip install --upgrade pip' command.\n"
     ]
    }
   ],
   "source": [
    "pip install konlpy"
   ]
  },
  {
   "cell_type": "code",
   "execution_count": 4,
   "outputs": [
    {
     "name": "stdout",
     "output_type": "stream",
     "text": [
      "Collecting pandas\n",
      "  Downloading pandas-2.1.1-cp39-cp39-win_amd64.whl (10.8 MB)\n",
      "     --------------------------------------- 10.8/10.8 MB 24.3 MB/s eta 0:00:00\n",
      "Collecting tzdata>=2022.1\n",
      "  Using cached tzdata-2023.3-py2.py3-none-any.whl (341 kB)\n",
      "Requirement already satisfied: pytz>=2020.1 in c:\\users\\nayeon\\appdata\\local\\programs\\python\\python39\\lib\\site-packages (from pandas) (2023.3)\n",
      "Requirement already satisfied: numpy>=1.22.4 in c:\\users\\nayeon\\appdata\\local\\programs\\python\\python39\\lib\\site-packages (from pandas) (1.26.1)\n",
      "Requirement already satisfied: python-dateutil>=2.8.2 in c:\\users\\nayeon\\appdata\\local\\programs\\python\\python39\\lib\\site-packages (from pandas) (2.8.2)\n",
      "Requirement already satisfied: six>=1.5 in c:\\users\\nayeon\\appdata\\local\\programs\\python\\python39\\lib\\site-packages (from python-dateutil>=2.8.2->pandas) (1.16.0)\n",
      "Installing collected packages: tzdata, pandas\n",
      "Successfully installed pandas-2.1.1 tzdata-2023.3\n",
      "Note: you may need to restart the kernel to use updated packages.\n"
     ]
    },
    {
     "name": "stderr",
     "output_type": "stream",
     "text": [
      "WARNING: You are using pip version 22.0.4; however, version 23.3.1 is available.\n",
      "You should consider upgrading via the 'C:\\Users\\Nayeon\\AppData\\Local\\Programs\\Python\\Python39\\python.exe -m pip install --upgrade pip' command.\n"
     ]
    }
   ],
   "source": [
    "pip install pandas"
   ],
   "metadata": {
    "collapsed": false,
    "ExecuteTime": {
     "end_time": "2023-10-22T04:56:22.572528800Z",
     "start_time": "2023-10-22T04:55:53.373929100Z"
    }
   },
   "id": "c65a4432d5160585"
  },
  {
   "cell_type": "code",
   "execution_count": 16,
   "outputs": [],
   "source": [
    "from konlpy.tag import Komoran\n",
    "import pandas as pd"
   ],
   "metadata": {
    "collapsed": false,
    "ExecuteTime": {
     "end_time": "2023-10-22T05:09:53.608691500Z",
     "start_time": "2023-10-22T05:09:53.592543200Z"
    }
   },
   "id": "5ab9d3b19d2e3b33"
  },
  {
   "cell_type": "code",
   "execution_count": 17,
   "outputs": [
    {
     "name": "stdout",
     "output_type": "stream",
     "text": [
      "[('이번', 'NNG'), ('주말', 'NNP'), ('에', 'JKB'), ('어디', 'NP'), ('가', 'VV'), ('기', 'ETN'), ('로', 'JKB'), ('하', 'VV'), ('았', 'EP'), ('지', 'EC')]\n"
     ]
    }
   ],
   "source": [
    "komoran = Komoran()\n",
    "text = \"이번 주말에 어디 가기로 했지\"\n",
    "pos = komoran.pos(text)\n",
    "print(pos)"
   ],
   "metadata": {
    "collapsed": false,
    "ExecuteTime": {
     "end_time": "2023-10-22T05:09:58.444303500Z",
     "start_time": "2023-10-22T05:09:54.247962900Z"
    }
   },
   "id": "3cdf320073ff5b75"
  },
  {
   "cell_type": "code",
   "execution_count": 14,
   "outputs": [],
   "source": [
    "df = pd.read_csv('data/주제별일상대화데이터.csv')"
   ],
   "metadata": {
    "collapsed": false,
    "ExecuteTime": {
     "end_time": "2023-10-22T05:04:03.954684800Z",
     "start_time": "2023-10-22T05:04:01.814371700Z"
    }
   },
   "id": "7cf884d2950734ca"
  },
  {
   "cell_type": "code",
   "execution_count": 15,
   "outputs": [
    {
     "data": {
      "text/plain": "                                  text\n0                   애덜앙 나 너무 배불러서 배 아파\n1           배 아프면 약국 가서 소화제라도 마시는 거 어때\n2                      얼마나 먹었다고 배가 아프데\n3            떡볶이랑 튀김이랑 닭껍질튀김이랑 마카롱 먹었어\n4  하긴 *이 배는 파리보다 작으니까 당연히 그만큼 먹어도 배부르지",
      "text/html": "<div>\n<style scoped>\n    .dataframe tbody tr th:only-of-type {\n        vertical-align: middle;\n    }\n\n    .dataframe tbody tr th {\n        vertical-align: top;\n    }\n\n    .dataframe thead th {\n        text-align: right;\n    }\n</style>\n<table border=\"1\" class=\"dataframe\">\n  <thead>\n    <tr style=\"text-align: right;\">\n      <th></th>\n      <th>text</th>\n    </tr>\n  </thead>\n  <tbody>\n    <tr>\n      <th>0</th>\n      <td>애덜앙 나 너무 배불러서 배 아파</td>\n    </tr>\n    <tr>\n      <th>1</th>\n      <td>배 아프면 약국 가서 소화제라도 마시는 거 어때</td>\n    </tr>\n    <tr>\n      <th>2</th>\n      <td>얼마나 먹었다고 배가 아프데</td>\n    </tr>\n    <tr>\n      <th>3</th>\n      <td>떡볶이랑 튀김이랑 닭껍질튀김이랑 마카롱 먹었어</td>\n    </tr>\n    <tr>\n      <th>4</th>\n      <td>하긴 *이 배는 파리보다 작으니까 당연히 그만큼 먹어도 배부르지</td>\n    </tr>\n  </tbody>\n</table>\n</div>"
     },
     "execution_count": 15,
     "metadata": {},
     "output_type": "execute_result"
    }
   ],
   "source": [
    "df.head()"
   ],
   "metadata": {
    "collapsed": false,
    "ExecuteTime": {
     "end_time": "2023-10-22T05:04:03.974064600Z",
     "start_time": "2023-10-22T05:04:03.957686400Z"
    }
   },
   "id": "7e79a25f9588dd8b"
  },
  {
   "cell_type": "code",
   "execution_count": 23,
   "outputs": [],
   "source": [
    "from konlpy.tag import Komoran\n",
    "import pickle\n",
    "\n",
    "class Preprocess:\n",
    "    def __init__(self, userdic=None): # userdic 인자에는 사용자 정의 사전 파일 경로 입력가능\n",
    "\n",
    "        # 형태소 분석기 초기화\n",
    "        self.komoran = Komoran(userdic=userdic)\n",
    "\n",
    "        # 제외할 품사\n",
    "        # 참조 : https://docs.komoran.kr/firststep/postypes.html\n",
    "        # 관계언 제거, 기호 제거\n",
    "        # 어미 제거\n",
    "        # 접미사 제거\n",
    "        self.exclusion_tags = [\n",
    "            'JKS', 'JKC', 'JKG', 'JKO', 'JKB', 'JKV', 'JKQ',\n",
    "            # 주격조사, 보격조사, 관형격조사, 목적격조사, 부사격조사, 호격조사, 인용격조사\n",
    "            'JX', 'JC',\n",
    "            # 보조사, 접속조사\n",
    "            'SF', 'SP', 'SS', 'SE', 'SO',\n",
    "            # 마침표,물음표,느낌표(SF), 쉼표,가운뎃점,콜론,빗금(SP), 따옴표,괄호표,줄표(SS), 줄임표(SE), 붙임표(물결,숨김,빠짐)(SO)\n",
    "            'EP', 'EF', 'EC', 'ETN', 'ETM',\n",
    "            # 선어말어미, 종결어미, 연결어미, 명사형전성어미, 관형형전성어미\n",
    "            'XSN', 'XSV', 'XSA'\n",
    "            # 명사파생접미사, 동사파생접미사, 형용사파생접미사\n",
    "        ]\n",
    "\n",
    "\n",
    "    # 형태소 분석기 POS 태거\n",
    "    def pos(self, sentence):\n",
    "        return self.komoran.pos(sentence)\n",
    "\n",
    "    # 불용어 제거 후 필요한 품사 정보만 가져오기\n",
    "    def get_keywords(self, pos, without_tag=False):\n",
    "        f = lambda x: x in self.exclusion_tags\n",
    "        word_list = []\n",
    "        for p in pos:\n",
    "            if f(p[1]) is False:\n",
    "                word_list.append(p if without_tag is False else p[0])\n",
    "        return word_list"
   ],
   "metadata": {
    "collapsed": false,
    "ExecuteTime": {
     "end_time": "2023-10-22T05:14:25.753143400Z",
     "start_time": "2023-10-22T05:14:25.731632900Z"
    }
   },
   "id": "121775e1676e0df2"
  },
  {
   "cell_type": "code",
   "execution_count": 31,
   "outputs": [
    {
     "name": "stdout",
     "output_type": "stream",
     "text": [
      "[('3차 회식', 'NNP')]\n",
      "['3차 회식']\n"
     ]
    }
   ],
   "source": [
    "\n",
    "sent = \"3차 회식\"\n",
    "\n",
    "# 전처리 객체 생성\n",
    "p = Preprocess(userdic='./files/user_dic.tsv')\n",
    "\n",
    "# 형태소 분석기 실행\n",
    "pos = p.pos(sent)\n",
    "\n",
    "# 품사 태그와 같이 키워드 출력\n",
    "ret = p.get_keywords(pos, without_tag=False)\n",
    "print(ret)\n",
    "\n",
    "# 품사 태그 없이 키워드 출력\n",
    "ret = p.get_keywords(pos, without_tag=True)\n",
    "print(ret)"
   ],
   "metadata": {
    "collapsed": false,
    "ExecuteTime": {
     "end_time": "2023-10-22T05:28:10.037053600Z",
     "start_time": "2023-10-22T05:28:08.280620800Z"
    }
   },
   "id": "f0f6438935199e91"
  },
  {
   "cell_type": "code",
   "execution_count": null,
   "outputs": [],
   "source": [],
   "metadata": {
    "collapsed": false
   },
   "id": "27b75fd1d1f8ddfd"
  }
 ],
 "metadata": {
  "kernelspec": {
   "display_name": "Python 3",
   "language": "python",
   "name": "python3"
  },
  "language_info": {
   "codemirror_mode": {
    "name": "ipython",
    "version": 2
   },
   "file_extension": ".py",
   "mimetype": "text/x-python",
   "name": "python",
   "nbconvert_exporter": "python",
   "pygments_lexer": "ipython2",
   "version": "2.7.6"
  }
 },
 "nbformat": 4,
 "nbformat_minor": 5
}
