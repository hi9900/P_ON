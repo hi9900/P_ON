{
 "cells": [
  {
   "cell_type": "code",
   "execution_count": 8,
   "id": "initial_id",
   "metadata": {
    "collapsed": true,
    "ExecuteTime": {
     "end_time": "2023-10-22T06:09:21.247865Z",
     "start_time": "2023-10-22T06:09:19.955611300Z"
    }
   },
   "outputs": [
    {
     "name": "stdout",
     "output_type": "stream",
     "text": [
      "Requirement already satisfied: konlpy in c:\\users\\nayeon\\appdata\\local\\programs\\python\\python39\\lib\\site-packages (0.6.0)\n",
      "Requirement already satisfied: JPype1>=0.7.0 in c:\\users\\nayeon\\appdata\\local\\programs\\python\\python39\\lib\\site-packages (from konlpy) (1.4.1)\n",
      "Requirement already satisfied: numpy>=1.6 in c:\\users\\nayeon\\appdata\\local\\programs\\python\\python39\\lib\\site-packages (from konlpy) (1.26.1)\n",
      "Requirement already satisfied: lxml>=4.1.0 in c:\\users\\nayeon\\appdata\\local\\programs\\python\\python39\\lib\\site-packages (from konlpy) (4.9.3)\n",
      "Requirement already satisfied: packaging in c:\\users\\nayeon\\appdata\\local\\programs\\python\\python39\\lib\\site-packages (from JPype1>=0.7.0->konlpy) (23.2)\n",
      "Note: you may need to restart the kernel to use updated packages.\n"
     ]
    },
    {
     "name": "stderr",
     "output_type": "stream",
     "text": [
      "WARNING: You are using pip version 22.0.4; however, version 23.3.1 is available.\n",
      "You should consider upgrading via the 'C:\\Users\\Nayeon\\AppData\\Local\\Programs\\Python\\Python39\\python.exe -m pip install --upgrade pip' command.\n"
     ]
    }
   ],
   "source": [
    "pip install konlpy"
   ]
  },
  {
   "cell_type": "code",
   "execution_count": 9,
   "outputs": [
    {
     "name": "stdout",
     "output_type": "stream",
     "text": [
      "Requirement already satisfied: pandas in c:\\users\\nayeon\\appdata\\local\\programs\\python\\python39\\lib\\site-packages (2.1.1)\n",
      "Requirement already satisfied: numpy>=1.22.4 in c:\\users\\nayeon\\appdata\\local\\programs\\python\\python39\\lib\\site-packages (from pandas) (1.26.1)\n",
      "Requirement already satisfied: python-dateutil>=2.8.2 in c:\\users\\nayeon\\appdata\\local\\programs\\python\\python39\\lib\\site-packages (from pandas) (2.8.2)\n",
      "Requirement already satisfied: pytz>=2020.1 in c:\\users\\nayeon\\appdata\\local\\programs\\python\\python39\\lib\\site-packages (from pandas) (2023.3)\n",
      "Requirement already satisfied: tzdata>=2022.1 in c:\\users\\nayeon\\appdata\\local\\programs\\python\\python39\\lib\\site-packages (from pandas) (2023.3)\n",
      "Requirement already satisfied: six>=1.5 in c:\\users\\nayeon\\appdata\\local\\programs\\python\\python39\\lib\\site-packages (from python-dateutil>=2.8.2->pandas) (1.16.0)\n",
      "Note: you may need to restart the kernel to use updated packages.\n"
     ]
    },
    {
     "name": "stderr",
     "output_type": "stream",
     "text": [
      "WARNING: You are using pip version 22.0.4; however, version 23.3.1 is available.\n",
      "You should consider upgrading via the 'C:\\Users\\Nayeon\\AppData\\Local\\Programs\\Python\\Python39\\python.exe -m pip install --upgrade pip' command.\n"
     ]
    }
   ],
   "source": [
    "pip install pandas"
   ],
   "metadata": {
    "collapsed": false,
    "ExecuteTime": {
     "end_time": "2023-10-22T06:09:22.260400400Z",
     "start_time": "2023-10-22T06:09:21.248864800Z"
    }
   },
   "id": "c65a4432d5160585"
  },
  {
   "cell_type": "code",
   "execution_count": 10,
   "outputs": [
    {
     "name": "stdout",
     "output_type": "stream",
     "text": [
      "Requirement already satisfied: tensorflow in c:\\users\\nayeon\\appdata\\local\\programs\\python\\python39\\lib\\site-packages (2.14.0)\n",
      "Requirement already satisfied: tensorflow-intel==2.14.0 in c:\\users\\nayeon\\appdata\\local\\programs\\python\\python39\\lib\\site-packages (from tensorflow) (2.14.0)\n",
      "Requirement already satisfied: tensorflow-io-gcs-filesystem>=0.23.1 in c:\\users\\nayeon\\appdata\\local\\programs\\python\\python39\\lib\\site-packages (from tensorflow-intel==2.14.0->tensorflow) (0.31.0)\n",
      "Requirement already satisfied: wrapt<1.15,>=1.11.0 in c:\\users\\nayeon\\appdata\\local\\programs\\python\\python39\\lib\\site-packages (from tensorflow-intel==2.14.0->tensorflow) (1.14.1)\n",
      "Requirement already satisfied: protobuf!=4.21.0,!=4.21.1,!=4.21.2,!=4.21.3,!=4.21.4,!=4.21.5,<5.0.0dev,>=3.20.3 in c:\\users\\nayeon\\appdata\\local\\programs\\python\\python39\\lib\\site-packages (from tensorflow-intel==2.14.0->tensorflow) (4.24.4)\n",
      "Requirement already satisfied: typing-extensions>=3.6.6 in c:\\users\\nayeon\\appdata\\local\\programs\\python\\python39\\lib\\site-packages (from tensorflow-intel==2.14.0->tensorflow) (4.8.0)\n",
      "Requirement already satisfied: packaging in c:\\users\\nayeon\\appdata\\local\\programs\\python\\python39\\lib\\site-packages (from tensorflow-intel==2.14.0->tensorflow) (23.2)\n",
      "Requirement already satisfied: termcolor>=1.1.0 in c:\\users\\nayeon\\appdata\\local\\programs\\python\\python39\\lib\\site-packages (from tensorflow-intel==2.14.0->tensorflow) (2.3.0)\n",
      "Requirement already satisfied: opt-einsum>=2.3.2 in c:\\users\\nayeon\\appdata\\local\\programs\\python\\python39\\lib\\site-packages (from tensorflow-intel==2.14.0->tensorflow) (3.3.0)\n",
      "Requirement already satisfied: astunparse>=1.6.0 in c:\\users\\nayeon\\appdata\\local\\programs\\python\\python39\\lib\\site-packages (from tensorflow-intel==2.14.0->tensorflow) (1.6.3)\n",
      "Requirement already satisfied: numpy>=1.23.5 in c:\\users\\nayeon\\appdata\\local\\programs\\python\\python39\\lib\\site-packages (from tensorflow-intel==2.14.0->tensorflow) (1.26.1)\n",
      "Requirement already satisfied: tensorflow-estimator<2.15,>=2.14.0 in c:\\users\\nayeon\\appdata\\local\\programs\\python\\python39\\lib\\site-packages (from tensorflow-intel==2.14.0->tensorflow) (2.14.0)\n",
      "Requirement already satisfied: libclang>=13.0.0 in c:\\users\\nayeon\\appdata\\local\\programs\\python\\python39\\lib\\site-packages (from tensorflow-intel==2.14.0->tensorflow) (16.0.6)\n",
      "Requirement already satisfied: setuptools in c:\\users\\nayeon\\appdata\\local\\programs\\python\\python39\\lib\\site-packages (from tensorflow-intel==2.14.0->tensorflow) (58.1.0)\n",
      "Requirement already satisfied: six>=1.12.0 in c:\\users\\nayeon\\appdata\\local\\programs\\python\\python39\\lib\\site-packages (from tensorflow-intel==2.14.0->tensorflow) (1.16.0)\n",
      "Requirement already satisfied: keras<2.15,>=2.14.0 in c:\\users\\nayeon\\appdata\\local\\programs\\python\\python39\\lib\\site-packages (from tensorflow-intel==2.14.0->tensorflow) (2.14.0)\n",
      "Requirement already satisfied: ml-dtypes==0.2.0 in c:\\users\\nayeon\\appdata\\local\\programs\\python\\python39\\lib\\site-packages (from tensorflow-intel==2.14.0->tensorflow) (0.2.0)\n",
      "Requirement already satisfied: h5py>=2.9.0 in c:\\users\\nayeon\\appdata\\local\\programs\\python\\python39\\lib\\site-packages (from tensorflow-intel==2.14.0->tensorflow) (3.10.0)\n",
      "Requirement already satisfied: gast!=0.5.0,!=0.5.1,!=0.5.2,>=0.2.1 in c:\\users\\nayeon\\appdata\\local\\programs\\python\\python39\\lib\\site-packages (from tensorflow-intel==2.14.0->tensorflow) (0.5.4)\n",
      "Requirement already satisfied: google-pasta>=0.1.1 in c:\\users\\nayeon\\appdata\\local\\programs\\python\\python39\\lib\\site-packages (from tensorflow-intel==2.14.0->tensorflow) (0.2.0)\n",
      "Requirement already satisfied: absl-py>=1.0.0 in c:\\users\\nayeon\\appdata\\local\\programs\\python\\python39\\lib\\site-packages (from tensorflow-intel==2.14.0->tensorflow) (2.0.0)\n",
      "Requirement already satisfied: tensorboard<2.15,>=2.14 in c:\\users\\nayeon\\appdata\\local\\programs\\python\\python39\\lib\\site-packages (from tensorflow-intel==2.14.0->tensorflow) (2.14.1)\n",
      "Requirement already satisfied: grpcio<2.0,>=1.24.3 in c:\\users\\nayeon\\appdata\\local\\programs\\python\\python39\\lib\\site-packages (from tensorflow-intel==2.14.0->tensorflow) (1.59.0)\n",
      "Requirement already satisfied: flatbuffers>=23.5.26 in c:\\users\\nayeon\\appdata\\local\\programs\\python\\python39\\lib\\site-packages (from tensorflow-intel==2.14.0->tensorflow) (23.5.26)\n",
      "Requirement already satisfied: wheel<1.0,>=0.23.0 in c:\\users\\nayeon\\appdata\\local\\programs\\python\\python39\\lib\\site-packages (from astunparse>=1.6.0->tensorflow-intel==2.14.0->tensorflow) (0.41.2)\n",
      "Requirement already satisfied: werkzeug>=1.0.1 in c:\\users\\nayeon\\appdata\\local\\programs\\python\\python39\\lib\\site-packages (from tensorboard<2.15,>=2.14->tensorflow-intel==2.14.0->tensorflow) (3.0.0)\n",
      "Requirement already satisfied: google-auth-oauthlib<1.1,>=0.5 in c:\\users\\nayeon\\appdata\\local\\programs\\python\\python39\\lib\\site-packages (from tensorboard<2.15,>=2.14->tensorflow-intel==2.14.0->tensorflow) (1.0.0)\n",
      "Requirement already satisfied: requests<3,>=2.21.0 in c:\\users\\nayeon\\appdata\\local\\programs\\python\\python39\\lib\\site-packages (from tensorboard<2.15,>=2.14->tensorflow-intel==2.14.0->tensorflow) (2.31.0)\n",
      "Requirement already satisfied: google-auth<3,>=1.6.3 in c:\\users\\nayeon\\appdata\\local\\programs\\python\\python39\\lib\\site-packages (from tensorboard<2.15,>=2.14->tensorflow-intel==2.14.0->tensorflow) (2.23.3)\n",
      "Requirement already satisfied: tensorboard-data-server<0.8.0,>=0.7.0 in c:\\users\\nayeon\\appdata\\local\\programs\\python\\python39\\lib\\site-packages (from tensorboard<2.15,>=2.14->tensorflow-intel==2.14.0->tensorflow) (0.7.1)\n",
      "Requirement already satisfied: markdown>=2.6.8 in c:\\users\\nayeon\\appdata\\local\\programs\\python\\python39\\lib\\site-packages (from tensorboard<2.15,>=2.14->tensorflow-intel==2.14.0->tensorflow) (3.5)\n",
      "Requirement already satisfied: rsa<5,>=3.1.4 in c:\\users\\nayeon\\appdata\\local\\programs\\python\\python39\\lib\\site-packages (from google-auth<3,>=1.6.3->tensorboard<2.15,>=2.14->tensorflow-intel==2.14.0->tensorflow) (4.9)\n",
      "Requirement already satisfied: cachetools<6.0,>=2.0.0 in c:\\users\\nayeon\\appdata\\local\\programs\\python\\python39\\lib\\site-packages (from google-auth<3,>=1.6.3->tensorboard<2.15,>=2.14->tensorflow-intel==2.14.0->tensorflow) (5.3.1)\n",
      "Requirement already satisfied: pyasn1-modules>=0.2.1 in c:\\users\\nayeon\\appdata\\local\\programs\\python\\python39\\lib\\site-packages (from google-auth<3,>=1.6.3->tensorboard<2.15,>=2.14->tensorflow-intel==2.14.0->tensorflow) (0.3.0)\n",
      "Requirement already satisfied: requests-oauthlib>=0.7.0 in c:\\users\\nayeon\\appdata\\local\\programs\\python\\python39\\lib\\site-packages (from google-auth-oauthlib<1.1,>=0.5->tensorboard<2.15,>=2.14->tensorflow-intel==2.14.0->tensorflow) (1.3.1)\n",
      "Requirement already satisfied: importlib-metadata>=4.4 in c:\\users\\nayeon\\appdata\\local\\programs\\python\\python39\\lib\\site-packages (from markdown>=2.6.8->tensorboard<2.15,>=2.14->tensorflow-intel==2.14.0->tensorflow) (6.8.0)\n",
      "Requirement already satisfied: idna<4,>=2.5 in c:\\users\\nayeon\\appdata\\local\\programs\\python\\python39\\lib\\site-packages (from requests<3,>=2.21.0->tensorboard<2.15,>=2.14->tensorflow-intel==2.14.0->tensorflow) (3.4)\n",
      "Requirement already satisfied: certifi>=2017.4.17 in c:\\users\\nayeon\\appdata\\local\\programs\\python\\python39\\lib\\site-packages (from requests<3,>=2.21.0->tensorboard<2.15,>=2.14->tensorflow-intel==2.14.0->tensorflow) (2023.5.7)\n",
      "Requirement already satisfied: urllib3<3,>=1.21.1 in c:\\users\\nayeon\\appdata\\local\\programs\\python\\python39\\lib\\site-packages (from requests<3,>=2.21.0->tensorboard<2.15,>=2.14->tensorflow-intel==2.14.0->tensorflow) (2.0.2)\n",
      "Requirement already satisfied: charset-normalizer<4,>=2 in c:\\users\\nayeon\\appdata\\local\\programs\\python\\python39\\lib\\site-packages (from requests<3,>=2.21.0->tensorboard<2.15,>=2.14->tensorflow-intel==2.14.0->tensorflow) (3.1.0)\n",
      "Requirement already satisfied: MarkupSafe>=2.1.1 in c:\\users\\nayeon\\appdata\\local\\programs\\python\\python39\\lib\\site-packages (from werkzeug>=1.0.1->tensorboard<2.15,>=2.14->tensorflow-intel==2.14.0->tensorflow) (2.1.3)\n",
      "Requirement already satisfied: zipp>=0.5 in c:\\users\\nayeon\\appdata\\local\\programs\\python\\python39\\lib\\site-packages (from importlib-metadata>=4.4->markdown>=2.6.8->tensorboard<2.15,>=2.14->tensorflow-intel==2.14.0->tensorflow) (3.17.0)\n",
      "Requirement already satisfied: pyasn1<0.6.0,>=0.4.6 in c:\\users\\nayeon\\appdata\\local\\programs\\python\\python39\\lib\\site-packages (from pyasn1-modules>=0.2.1->google-auth<3,>=1.6.3->tensorboard<2.15,>=2.14->tensorflow-intel==2.14.0->tensorflow) (0.5.0)\n",
      "Requirement already satisfied: oauthlib>=3.0.0 in c:\\users\\nayeon\\appdata\\local\\programs\\python\\python39\\lib\\site-packages (from requests-oauthlib>=0.7.0->google-auth-oauthlib<1.1,>=0.5->tensorboard<2.15,>=2.14->tensorflow-intel==2.14.0->tensorflow) (3.2.2)\n",
      "Note: you may need to restart the kernel to use updated packages.\n"
     ]
    },
    {
     "name": "stderr",
     "output_type": "stream",
     "text": [
      "WARNING: You are using pip version 22.0.4; however, version 23.3.1 is available.\n",
      "You should consider upgrading via the 'C:\\Users\\Nayeon\\AppData\\Local\\Programs\\Python\\Python39\\python.exe -m pip install --upgrade pip' command.\n"
     ]
    }
   ],
   "source": [
    "pip install tensorflow"
   ],
   "metadata": {
    "collapsed": false,
    "ExecuteTime": {
     "end_time": "2023-10-22T06:09:23.343297300Z",
     "start_time": "2023-10-22T06:09:22.261400500Z"
    }
   },
   "id": "7d008817e088e8a1"
  },
  {
   "cell_type": "code",
   "execution_count": 11,
   "outputs": [],
   "source": [
    "from konlpy.tag import Komoran\n",
    "import pandas as pd"
   ],
   "metadata": {
    "collapsed": false,
    "ExecuteTime": {
     "end_time": "2023-10-22T06:09:23.404942300Z",
     "start_time": "2023-10-22T06:09:23.344297800Z"
    }
   },
   "id": "5ab9d3b19d2e3b33"
  },
  {
   "cell_type": "markdown",
   "source": [
    "# 토크나이즈"
   ],
   "metadata": {
    "collapsed": false
   },
   "id": "7f789de2c7405b41"
  },
  {
   "cell_type": "code",
   "execution_count": 16,
   "outputs": [],
   "source": [
    "class Preprocess:\n",
    "    def __init__(self, servicedic=None): # userdic 인자에는 사용자 정의 사전 파일 경로 입력가능\n",
    "\n",
    "        # 형태소 분석기 초기화\n",
    "        self.komoran = Komoran(userdic=servicedic)\n",
    "\n",
    "        # 제외할 품사\n",
    "        # 참조 : https://docs.komoran.kr/firststep/postypes.html\n",
    "        # 관계언 제거, 기호 제거\n",
    "        # 어미 제거\n",
    "        # 접미사 제거\n",
    "        self.exclusion_tags = [\n",
    "            'JKS', 'JKC', 'JKG', 'JKO', 'JKB', 'JKV', 'JKQ',\n",
    "            # 주격조사, 보격조사, 관형격조사, 목적격조사, 부사격조사, 호격조사, 인용격조사\n",
    "            'JX', 'JC',\n",
    "            # 보조사, 접속조사\n",
    "            'SF', 'SP', 'SS', 'SE', 'SO',\n",
    "            # 마침표,물음표,느낌표(SF), 쉼표,가운뎃점,콜론,빗금(SP), 따옴표,괄호표,줄표(SS), 줄임표(SE), 붙임표(물결,숨김,빠짐)(SO)\n",
    "            'EP', 'EF', 'EC', 'ETN', 'ETM',\n",
    "            # 선어말어미, 종결어미, 연결어미, 명사형전성어미, 관형형전성어미\n",
    "            'XSN', 'XSV', 'XSA'\n",
    "            # 명사파생접미사, 동사파생접미사, 형용사파생접미사\n",
    "        ]\n",
    "\n",
    "\n",
    "    # 형태소 분석기 POS 태거\n",
    "    def pos(self, sentence):\n",
    "        return self.komoran.pos(sentence)\n",
    "\n",
    "    # 불용어 제거 후 필요한 품사 정보만 가져오기\n",
    "    def get_keywords(self, pos, without_tag=False):\n",
    "        f = lambda x: x in self.exclusion_tags\n",
    "        word_list = []\n",
    "        for p in pos:\n",
    "            if f(p[1]) is False:\n",
    "                word_list.append(p if without_tag is False else p[0])\n",
    "        return word_list"
   ],
   "metadata": {
    "collapsed": false,
    "ExecuteTime": {
     "end_time": "2023-10-22T06:11:08.563581300Z",
     "start_time": "2023-10-22T06:11:08.542580800Z"
    }
   },
   "id": "121775e1676e0df2"
  },
  {
   "cell_type": "markdown",
   "source": [
    "## TEST"
   ],
   "metadata": {
    "collapsed": false
   },
   "id": "bce53fbd483b140a"
  },
  {
   "cell_type": "code",
   "execution_count": 13,
   "outputs": [
    {
     "ename": "TypeError",
     "evalue": "__init__() got an unexpected keyword argument 'servicedic'",
     "output_type": "error",
     "traceback": [
      "\u001B[1;31m---------------------------------------------------------------------------\u001B[0m",
      "\u001B[1;31mTypeError\u001B[0m                                 Traceback (most recent call last)",
      "Cell \u001B[1;32mIn[13], line 4\u001B[0m\n\u001B[0;32m      1\u001B[0m sent \u001B[38;5;241m=\u001B[39m \u001B[38;5;124m\"\u001B[39m\u001B[38;5;124m구희영 보고싶어\u001B[39m\u001B[38;5;124m\"\u001B[39m\n\u001B[0;32m      3\u001B[0m \u001B[38;5;66;03m# 전처리 객체 생성\u001B[39;00m\n\u001B[1;32m----> 4\u001B[0m p \u001B[38;5;241m=\u001B[39m \u001B[43mPreprocess\u001B[49m\u001B[43m(\u001B[49m\u001B[43mservicedic\u001B[49m\u001B[38;5;241;43m=\u001B[39;49m\u001B[38;5;124;43m'\u001B[39;49m\u001B[38;5;124;43m./files/service_dic.tsv\u001B[39;49m\u001B[38;5;124;43m'\u001B[39;49m\u001B[43m)\u001B[49m\n\u001B[0;32m      6\u001B[0m \u001B[38;5;66;03m# 형태소 분석기 실행\u001B[39;00m\n\u001B[0;32m      7\u001B[0m pos \u001B[38;5;241m=\u001B[39m p\u001B[38;5;241m.\u001B[39mpos(sent)\n",
      "Cell \u001B[1;32mIn[12], line 5\u001B[0m, in \u001B[0;36mPreprocess.__init__\u001B[1;34m(self, servicedic)\u001B[0m\n\u001B[0;32m      2\u001B[0m \u001B[38;5;28;01mdef\u001B[39;00m \u001B[38;5;21m__init__\u001B[39m(\u001B[38;5;28mself\u001B[39m, servicedic\u001B[38;5;241m=\u001B[39m\u001B[38;5;28;01mNone\u001B[39;00m): \u001B[38;5;66;03m# userdic 인자에는 사용자 정의 사전 파일 경로 입력가능\u001B[39;00m\n\u001B[0;32m      3\u001B[0m \n\u001B[0;32m      4\u001B[0m     \u001B[38;5;66;03m# 형태소 분석기 초기화\u001B[39;00m\n\u001B[1;32m----> 5\u001B[0m     \u001B[38;5;28mself\u001B[39m\u001B[38;5;241m.\u001B[39mkomoran \u001B[38;5;241m=\u001B[39m \u001B[43mKomoran\u001B[49m\u001B[43m(\u001B[49m\u001B[43mservicedic\u001B[49m\u001B[38;5;241;43m=\u001B[39;49m\u001B[43mservicedic\u001B[49m\u001B[43m)\u001B[49m\n\u001B[0;32m      7\u001B[0m     \u001B[38;5;66;03m# 제외할 품사\u001B[39;00m\n\u001B[0;32m      8\u001B[0m     \u001B[38;5;66;03m# 참조 : https://docs.komoran.kr/firststep/postypes.html\u001B[39;00m\n\u001B[0;32m      9\u001B[0m     \u001B[38;5;66;03m# 관계언 제거, 기호 제거\u001B[39;00m\n\u001B[0;32m     10\u001B[0m     \u001B[38;5;66;03m# 어미 제거\u001B[39;00m\n\u001B[0;32m     11\u001B[0m     \u001B[38;5;66;03m# 접미사 제거\u001B[39;00m\n\u001B[0;32m     12\u001B[0m     \u001B[38;5;28mself\u001B[39m\u001B[38;5;241m.\u001B[39mexclusion_tags \u001B[38;5;241m=\u001B[39m [\n\u001B[0;32m     13\u001B[0m         \u001B[38;5;124m'\u001B[39m\u001B[38;5;124mJKS\u001B[39m\u001B[38;5;124m'\u001B[39m, \u001B[38;5;124m'\u001B[39m\u001B[38;5;124mJKC\u001B[39m\u001B[38;5;124m'\u001B[39m, \u001B[38;5;124m'\u001B[39m\u001B[38;5;124mJKG\u001B[39m\u001B[38;5;124m'\u001B[39m, \u001B[38;5;124m'\u001B[39m\u001B[38;5;124mJKO\u001B[39m\u001B[38;5;124m'\u001B[39m, \u001B[38;5;124m'\u001B[39m\u001B[38;5;124mJKB\u001B[39m\u001B[38;5;124m'\u001B[39m, \u001B[38;5;124m'\u001B[39m\u001B[38;5;124mJKV\u001B[39m\u001B[38;5;124m'\u001B[39m, \u001B[38;5;124m'\u001B[39m\u001B[38;5;124mJKQ\u001B[39m\u001B[38;5;124m'\u001B[39m,\n\u001B[0;32m     14\u001B[0m         \u001B[38;5;66;03m# 주격조사, 보격조사, 관형격조사, 목적격조사, 부사격조사, 호격조사, 인용격조사\u001B[39;00m\n\u001B[1;32m   (...)\u001B[0m\n\u001B[0;32m     22\u001B[0m         \u001B[38;5;66;03m# 명사파생접미사, 동사파생접미사, 형용사파생접미사\u001B[39;00m\n\u001B[0;32m     23\u001B[0m     ]\n",
      "\u001B[1;31mTypeError\u001B[0m: __init__() got an unexpected keyword argument 'servicedic'"
     ]
    }
   ],
   "source": [
    "sent = \"구희영 보고싶어\"\n",
    "\n",
    "# 전처리 객체 생성\n",
    "p = Preprocess(servicedic='./files/service_dic.tsv')\n",
    "\n",
    "# 형태소 분석기 실행\n",
    "pos = p.pos(sent)\n",
    "\n",
    "# 품사 태그와 같이 키워드 출력\n",
    "ret = p.get_keywords(pos, without_tag=False)\n",
    "print(ret)\n",
    "\n",
    "# 품사 태그 없이 키워드 출력\n",
    "ret = p.get_keywords(pos, without_tag=True)\n",
    "print(ret)"
   ],
   "metadata": {
    "collapsed": false,
    "ExecuteTime": {
     "end_time": "2023-10-22T06:09:23.485505700Z",
     "start_time": "2023-10-22T06:09:23.390828200Z"
    }
   },
   "id": "6d9391c62d3c04ce"
  },
  {
   "cell_type": "markdown",
   "source": [
    "# 단어 사전"
   ],
   "metadata": {
    "collapsed": false
   },
   "id": "fc6aa3d7782df17a"
  },
  {
   "cell_type": "code",
   "execution_count": 17,
   "outputs": [
    {
     "name": "stdout",
     "output_type": "stream",
     "text": [
      "157589\n"
     ]
    }
   ],
   "source": [
    "# 단어 사전 파일 생성 코드입니다.\n",
    "# 챗봇에 사용하는 사전 파일\n",
    "\n",
    "from tensorflow.keras import preprocessing\n",
    "import pickle\n",
    "import pandas as pd\n",
    "\n",
    "# 말뭉치 데이터 읽어오기\n",
    "movie_review = pd.read_csv('data/영화리뷰.csv')\n",
    "purpose = pd.read_csv('data/용도별목적대화데이터.csv')\n",
    "topic = pd.read_csv('data/주제별일상대화데이터.csv')\n",
    "common_sense = pd.read_csv('data/일반상식.csv')\n",
    "\n",
    "movie_review.dropna(inplace=True)\n",
    "purpose.dropna(inplace=True)\n",
    "topic.dropna(inplace=True)\n",
    "common_sense.dropna(inplace=True)\n",
    "\n",
    "text1 = list(movie_review['document'])\n",
    "text2 = list(purpose['text'])\n",
    "text3 = list(topic['text'])\n",
    "text4 = list(common_sense['query']) + list(common_sense['answer'])\n",
    "\n",
    "corpus_data = text1 + text2 + text3 + text4\n",
    "\n",
    "# 말뭉치 데이터에서 키워드만 추출해서 사전 리스트 생성\n",
    "p = Preprocess()\n",
    "dict = []\n",
    "for c in corpus_data:\n",
    "    pos = p.pos(c)\n",
    "    for k in pos:\n",
    "        dict.append(k[0])\n",
    "\n",
    "# 사전에 사용될 word2index 생성\n",
    "# 사전의 첫 번째 인덱스에는 OOV 사용\n",
    "tokenizer = preprocessing.text.Tokenizer(oov_token='OOV', num_words=100000)\n",
    "tokenizer.fit_on_texts(dict)\n",
    "word_index = tokenizer.word_index\n",
    "print(len(word_index))\n",
    "\n",
    "# 사전 파일 생성\n",
    "f = open(\"chatbot_dict.bin\", \"wb\")\n",
    "try:\n",
    "    pickle.dump(word_index, f)\n",
    "except Exception as e:\n",
    "    print(e)\n",
    "finally:\n",
    "    f.close()"
   ],
   "metadata": {
    "collapsed": false,
    "ExecuteTime": {
     "end_time": "2023-10-22T06:21:59.930900200Z",
     "start_time": "2023-10-22T06:11:12.609071100Z"
    }
   },
   "id": "603e4b574520d63a"
  },
  {
   "cell_type": "markdown",
   "source": [
    "## TEST ) 단어 사전"
   ],
   "metadata": {
    "collapsed": false
   },
   "id": "e64cd02e4d37920"
  },
  {
   "cell_type": "code",
   "execution_count": 23,
   "outputs": [
    {
     "name": "stdout",
     "output_type": "stream",
     "text": [
      "word_dic 로드 성공\n",
      "구희영 1\n",
      "언제 162\n",
      "만나 359\n"
     ]
    }
   ],
   "source": [
    "# 단어 사전 불러오기\n",
    "f = open(\"chatbot_dict.bin\", \"rb\")\n",
    "word_index = pickle.load(f)\n",
    "f.close()\n",
    "\n",
    "sent = \"구희영 언제 만나더라?\"\n",
    "\n",
    "# 전처리 객체 생성\n",
    "p = Preprocess(servicedic='files/service_dic.tsv')\n",
    "\n",
    "# 형태소 분석기 실행\n",
    "pos = p.pos(sent)\n",
    "\n",
    "# 품사 태그 없이 키워드 출력\n",
    "keywords = p.get_keywords(pos, without_tag=True)\n",
    "for word in keywords:\n",
    "    try:\n",
    "        print(word, word_index[word])\n",
    "    except KeyError:\n",
    "        # 해당 단어가 사전에 없는 경우 OOV 처리\n",
    "        print(word, word_index['OOV'])"
   ],
   "metadata": {
    "collapsed": false,
    "ExecuteTime": {
     "end_time": "2023-10-22T06:59:23.274547100Z",
     "start_time": "2023-10-22T06:59:21.757911500Z"
    }
   },
   "id": "5609cb2c83007ec1"
  },
  {
   "cell_type": "markdown",
   "source": [
    "# 텍스트 전처리\n",
    "- 토크 나이즈\n",
    "- 생성한 단어 사전으로 단어를 정수 인코딩"
   ],
   "metadata": {
    "collapsed": false
   },
   "id": "3c36f69378d74daa"
  },
  {
   "cell_type": "code",
   "execution_count": 22,
   "outputs": [],
   "source": [
    "class Preprocess:\n",
    "    def __init__(self, word2index_dic='chatbot_dict.bin', servicedic=None): # userdic 인자에는 사용자 정의 사전 파일 경로 입력가능\n",
    "        \n",
    "        if (word2index_dic != ''):\n",
    "            f = open(word2index_dic, 'rb')\n",
    "            self.word_index = pickle.load(f)\n",
    "            f.close()\n",
    "            print('word_dic 로드 성공')\n",
    "        else:\n",
    "            self.word_index = None\n",
    "            print('word_dic 로드 실패')\n",
    "        \n",
    "        # 형태소 분석기 초기화\n",
    "        self.komoran = Komoran(userdic=servicedic)\n",
    "\n",
    "        # 제외할 품사\n",
    "        # 참조 : https://docs.komoran.kr/firststep/postypes.html\n",
    "        # 관계언 제거, 기호 제거\n",
    "        # 어미 제거\n",
    "        # 접미사 제거\n",
    "        self.exclusion_tags = [\n",
    "            'JKS', 'JKC', 'JKG', 'JKO', 'JKB', 'JKV', 'JKQ',\n",
    "            # 주격조사, 보격조사, 관형격조사, 목적격조사, 부사격조사, 호격조사, 인용격조사\n",
    "            'JX', 'JC',\n",
    "            # 보조사, 접속조사\n",
    "            'SF', 'SP', 'SS', 'SE', 'SO',\n",
    "            # 마침표,물음표,느낌표(SF), 쉼표,가운뎃점,콜론,빗금(SP), 따옴표,괄호표,줄표(SS), 줄임표(SE), 붙임표(물결,숨김,빠짐)(SO)\n",
    "            'EP', 'EF', 'EC', 'ETN', 'ETM',\n",
    "            # 선어말어미, 종결어미, 연결어미, 명사형전성어미, 관형형전성어미\n",
    "            'XSN', 'XSV', 'XSA'\n",
    "            # 명사파생접미사, 동사파생접미사, 형용사파생접미사\n",
    "        ]\n",
    "\n",
    "\n",
    "    # 형태소 분석기 POS 태거\n",
    "    def pos(self, sentence):\n",
    "        return self.komoran.pos(sentence)\n",
    "\n",
    "    # 불용어 제거 후 필요한 품사 정보만 가져오기\n",
    "    def get_keywords(self, pos, without_tag=False):\n",
    "        f = lambda x: x in self.exclusion_tags\n",
    "        word_list = []\n",
    "        for p in pos:\n",
    "            if f(p[1]) is False:\n",
    "                word_list.append(p if without_tag is False else p[0])\n",
    "        return word_list\n",
    "    \n",
    "    \n",
    "    def get_wordidx_sequence(self, keywords):\n",
    "        if self.word_index is None:\n",
    "            return []\n",
    "        \n",
    "        w2i = []\n",
    "        for word in keywords:\n",
    "            try:\n",
    "                w2i.append(self.word_index[word])\n",
    "            except KeyError:\n",
    "                w2i.append(self.word_index['OOV'])\n",
    "        return w2i"
   ],
   "metadata": {
    "collapsed": false,
    "ExecuteTime": {
     "end_time": "2023-10-22T06:58:35.684512800Z",
     "start_time": "2023-10-22T06:58:35.659518600Z"
    }
   },
   "id": "48b37fe5392a1aa9"
  },
  {
   "cell_type": "markdown",
   "source": [
    "## TEST ) 텍스트 전처리"
   ],
   "metadata": {
    "collapsed": false
   },
   "id": "cce2b1c64a0b15be"
  },
  {
   "cell_type": "code",
   "execution_count": 24,
   "outputs": [
    {
     "name": "stdout",
     "output_type": "stream",
     "text": [
      "word_dic 로드 성공\n",
      "[('구희영', 'NNP'), ('보', 'VV'), ('싶', 'VX')]\n",
      "['구희영', '보', '싶']\n"
     ]
    }
   ],
   "source": [
    "sent = \"구희영 보고싶어\"\n",
    "\n",
    "# 전처리 객체 생성\n",
    "p = Preprocess(servicedic='./files/service_dic.tsv')\n",
    "\n",
    "# 형태소 분석기 실행\n",
    "pos = p.pos(sent)\n",
    "\n",
    "# 품사 태그와 같이 키워드 출력\n",
    "ret = p.get_keywords(pos, without_tag=False)\n",
    "print(ret)\n",
    "\n",
    "# 품사 태그 없이 키워드 출력\n",
    "ret = p.get_keywords(pos, without_tag=True)\n",
    "print(ret)"
   ],
   "metadata": {
    "collapsed": false,
    "ExecuteTime": {
     "end_time": "2023-10-22T06:59:28.012598100Z",
     "start_time": "2023-10-22T06:59:26.756595200Z"
    }
   },
   "id": "8f8527c36a7660be"
  },
  {
   "cell_type": "code",
   "execution_count": null,
   "outputs": [],
   "source": [],
   "metadata": {
    "collapsed": false
   },
   "id": "3ca780be5971d0bd"
  }
 ],
 "metadata": {
  "kernelspec": {
   "display_name": "Python 3",
   "language": "python",
   "name": "python3"
  },
  "language_info": {
   "codemirror_mode": {
    "name": "ipython",
    "version": 2
   },
   "file_extension": ".py",
   "mimetype": "text/x-python",
   "name": "python",
   "nbconvert_exporter": "python",
   "pygments_lexer": "ipython2",
   "version": "2.7.6"
  }
 },
 "nbformat": 4,
 "nbformat_minor": 5
}
